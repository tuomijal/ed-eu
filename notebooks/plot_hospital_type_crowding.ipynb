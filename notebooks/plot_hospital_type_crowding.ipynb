{
 "cells": [
  {
   "cell_type": "code",
   "execution_count": null,
   "id": "c56d2fda",
   "metadata": {},
   "outputs": [],
   "source": [
    "import pandas as pd\n",
    "from pyprojroot import here\n",
    "import matplotlib.pyplot as plt"
   ]
  },
  {
   "cell_type": "code",
   "execution_count": null,
   "id": "120b90c4",
   "metadata": {},
   "outputs": [],
   "source": [
    "data = pd.read_csv(here() / 'data/base/data.csv')"
   ]
  },
  {
   "cell_type": "code",
   "execution_count": null,
   "id": "9ac1bb03",
   "metadata": {},
   "outputs": [],
   "source": [
    "data.groupby(data.hospital_type).frequency.describe().T"
   ]
  },
  {
   "cell_type": "code",
   "execution_count": null,
   "id": "8feaf946",
   "metadata": {},
   "outputs": [],
   "source": [
    "plt.scatter(data.catchment_area_population, data.frequency);"
   ]
  },
  {
   "cell_type": "code",
   "execution_count": null,
   "id": "e152c6d2",
   "metadata": {},
   "outputs": [],
   "source": [
    "plt.scatter(data.annual_episodes_of_care, data.frequency);"
   ]
  }
 ],
 "metadata": {
  "kernelspec": {
   "display_name": "python-data",
   "language": "python",
   "name": "python3"
  },
  "language_info": {
   "codemirror_mode": {
    "name": "ipython",
    "version": 3
   },
   "file_extension": ".py",
   "mimetype": "text/x-python",
   "name": "python",
   "nbconvert_exporter": "python",
   "pygments_lexer": "ipython3",
   "version": "3.13.2"
  }
 },
 "nbformat": 4,
 "nbformat_minor": 5
}
