{
 "cells": [
  {
   "cell_type": "code",
   "execution_count": null,
   "id": "8cf1d130",
   "metadata": {},
   "outputs": [],
   "source": [
    "import pandas as pd\n",
    "from pyprojroot import here\n",
    "\n",
    "import matplotlib.pyplot as plt"
   ]
  },
  {
   "cell_type": "code",
   "execution_count": null,
   "id": "8254f8c6",
   "metadata": {},
   "outputs": [],
   "source": [
    "data = pd.read_csv(here() / 'data/base/data.csv')\n",
    "\n",
    "counts = data.country.value_counts(dropna=False)"
   ]
  },
  {
   "cell_type": "code",
   "execution_count": null,
   "id": "592a67a1",
   "metadata": {},
   "outputs": [],
   "source": [
    "ax = counts.plot.barh(color='lightgrey', width=.8, figsize=(6,6))\n",
    "\n",
    "# Add annotations\n",
    "for i, v in enumerate(counts):\n",
    "    ax.text(v, i, str(v), va='center')\n",
    "\n",
    "ax.set_ylabel('Country')\n",
    "ax.set_xlabel('Responses')\n",
    "ax.set_title(f'Response counts by country (n={data.shape[0]}) \\n Latest reply: {data.eedcs_timestamp.max()}')\n",
    "\n",
    "plt.tight_layout()\n",
    "plt.savefig(here() / 'output/plots/country_freqs.png', dpi=300, bbox_inches='tight')"
   ]
  }
 ],
 "metadata": {
  "kernelspec": {
   "display_name": "python-data",
   "language": "python",
   "name": "python3"
  },
  "language_info": {
   "codemirror_mode": {
    "name": "ipython",
    "version": 3
   },
   "file_extension": ".py",
   "mimetype": "text/x-python",
   "name": "python",
   "nbconvert_exporter": "python",
   "pygments_lexer": "ipython3",
   "version": "3.13.2"
  }
 },
 "nbformat": 4,
 "nbformat_minor": 5
}
