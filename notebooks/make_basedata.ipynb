{
 "cells": [
  {
   "cell_type": "code",
   "execution_count": null,
   "id": "cbc9c0da",
   "metadata": {},
   "outputs": [],
   "source": [
    "import pandas as pd\n",
    "from pyprojroot import here"
   ]
  },
  {
   "cell_type": "code",
   "execution_count": null,
   "id": "98fbcc4b",
   "metadata": {},
   "outputs": [],
   "source": [
    "data = pd.read_csv(here() / 'data/raw/data_labels.csv', encoding='utf-8')\n",
    "#columns = pd.read_csv(here() / 'data/raw/data.csv', encoding='utf-8').columns\n",
    "data.shape[0]"
   ]
  },
  {
   "cell_type": "code",
   "execution_count": null,
   "id": "b372874a",
   "metadata": {},
   "outputs": [],
   "source": [
    "# Filter to complete\n",
    "data = data[data['Complete?']=='Complete']\n",
    "data = data.iloc[6:]\n",
    "data.shape[0]"
   ]
  },
  {
   "cell_type": "code",
   "execution_count": null,
   "id": "b0ec6c32",
   "metadata": {},
   "outputs": [],
   "source": [
    "data.Country.unique().shape"
   ]
  },
  {
   "cell_type": "code",
   "execution_count": null,
   "id": "e83c3d78",
   "metadata": {},
   "outputs": [],
   "source": [
    "# Country preprocessing and filters\n",
    "data.Country = data.Country.str.capitalize()\n",
    "\n",
    "data.Country = data.Country.str.rstrip()\n",
    "\n",
    "conversion = {\n",
    "              'Türkiye' : 'Turkey',\n",
    "              'Turkiye' : 'Turkey',\n",
    "              'TR' : 'Turkey',\n",
    "              'Tr' : 'Turkey',\n",
    "              'România' : 'Romania',\n",
    "              'Central finland' : 'Finland',\n",
    "              'Danmark' : 'Denmark',\n",
    "              'Arad' : 'Romania',\n",
    "              'It':'Italy',\n",
    "              'Francia' :'France',\n",
    "              'Barcelona':'Spain',\n",
    "              'España':'Spain',\n",
    "              'Uk':'United Kingdom',\n",
    "              'England':'United Kingdom',\n",
    "              'United kingdom'  : 'United Kingdom',\n",
    "              'Republic of ireland' : 'Ireland',\n",
    "              'Hampshire' : 'United Kingdom',\n",
    "              'England, uk' : 'United Kingdom',\n",
    "              'United kingdmo' : 'United Kingdom',\n",
    "              'Polska' : 'Poland',\n",
    "              'England, united kingdom' : 'United Kingdom',\n",
    "              'Wales' : 'United Kingdom',\n",
    "              'Scotland' : 'United Kingdom',\n",
    "              'Gb' : 'United Kingdom'\n",
    "              }\n",
    "\n",
    "data.Country = data.Country.replace(conversion)\n",
    "data = data[~data.Country.isna()]"
   ]
  },
  {
   "cell_type": "code",
   "execution_count": null,
   "id": "cb8b92cd",
   "metadata": {},
   "outputs": [],
   "source": [
    "data.Country.unique().shape[0]"
   ]
  },
  {
   "cell_type": "code",
   "execution_count": null,
   "id": "4d96d70b",
   "metadata": {},
   "outputs": [],
   "source": [
    "# Modify based on post hoc feedback\n",
    "data.loc[data['Study ID']==302, 'phase_2']=1.0"
   ]
  },
  {
   "cell_type": "code",
   "execution_count": null,
   "id": "c395a8fc",
   "metadata": {},
   "outputs": [],
   "source": [
    "# Filter test entries\n",
    "data = data[data['Study ID']!=26]"
   ]
  },
  {
   "cell_type": "code",
   "execution_count": null,
   "id": "2804a870",
   "metadata": {},
   "outputs": [],
   "source": [
    "data.iloc[:,80] = data.iloc[:,80].replace({'2-7days':'2-7 days'})"
   ]
  },
  {
   "cell_type": "code",
   "execution_count": null,
   "id": "3c6447f9",
   "metadata": {},
   "outputs": [],
   "source": [
    "# Remove duplicates if \n",
    "duplicates = (data['Last name'].duplicated() & data['First name'].duplicated() & data['Middle name(s)'].duplicated())\n",
    "data = data[~duplicates]"
   ]
  },
  {
   "cell_type": "code",
   "execution_count": null,
   "id": "de188fdb",
   "metadata": {},
   "outputs": [],
   "source": [
    "data.to_csv(here() / 'data/base/data.csv', index=False)"
   ]
  }
 ],
 "metadata": {
  "kernelspec": {
   "display_name": "python-data",
   "language": "python",
   "name": "python3"
  },
  "language_info": {
   "codemirror_mode": {
    "name": "ipython",
    "version": 3
   },
   "file_extension": ".py",
   "mimetype": "text/x-python",
   "name": "python",
   "nbconvert_exporter": "python",
   "pygments_lexer": "ipython3",
   "version": "3.13.2"
  }
 },
 "nbformat": 4,
 "nbformat_minor": 5
}
