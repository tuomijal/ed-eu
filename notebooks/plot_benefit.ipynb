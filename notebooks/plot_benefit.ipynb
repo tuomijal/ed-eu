{
 "cells": [
  {
   "cell_type": "code",
   "execution_count": null,
   "id": "43a23847",
   "metadata": {},
   "outputs": [],
   "source": [
    "import pandas as pd\n",
    "from pyprojroot import here\n",
    "\n",
    "import matplotlib.pyplot as plt"
   ]
  },
  {
   "cell_type": "code",
   "execution_count": null,
   "id": "db2d24b8",
   "metadata": {},
   "outputs": [],
   "source": [
    "data = pd.read_csv(here() / 'data/base/data.csv')"
   ]
  },
  {
   "cell_type": "code",
   "execution_count": null,
   "id": "67dab9ff",
   "metadata": {},
   "outputs": [],
   "source": [
    "a = data.iloc[:,77].value_counts()"
   ]
  },
  {
   "cell_type": "code",
   "execution_count": null,
   "id": "5b291834",
   "metadata": {},
   "outputs": [],
   "source": [
    "fig, ax = plt.subplots(figsize=(3,3))\n",
    "\n",
    "# Create the pie (donut) chart\n",
    "wedges, texts, autotexts = ax.pie(\n",
    "    a.values,\n",
    "    labels=['Yes', 'No'],\n",
    "    autopct='%1.0f%%',\n",
    "    startangle=90,\n",
    "    colors=['.5', '.9'],\n",
    "    wedgeprops={'width': 0.4},\n",
    "    pctdistance=.4\n",
    ")\n",
    "\n",
    "# ax.set_title(\n",
    "#     'Would sufficiently accurate patient volume forecasting \\n' \\\n",
    "#     ' or crowding early warning software help \\n ' \\\n",
    "#     'alleviate the crowding problem.',\n",
    "#     fontsize=10\n",
    "#     )\n",
    "\n",
    "plt.savefig(here() / 'output/plots/benefit.png', \n",
    "            bbox_inches='tight',\n",
    "            dpi=300)"
   ]
  },
  {
   "cell_type": "code",
   "execution_count": null,
   "id": "82f001ed",
   "metadata": {},
   "outputs": [],
   "source": [
    "b = data.iloc[:,77].value_counts()"
   ]
  },
  {
   "cell_type": "code",
   "execution_count": null,
   "id": "1cdc9c48",
   "metadata": {},
   "outputs": [],
   "source": [
    "fig, ax = plt.subplots(figsize=(3,3))\n",
    "\n",
    "# Create the pie (donut) chart\n",
    "wedges, texts, autotexts = ax.pie(\n",
    "    b.values,\n",
    "    labels=['No', 'Yes'],\n",
    "    autopct='%1.0f%%',\n",
    "    startangle=90,\n",
    "    colors=['.9', '.4'],\n",
    "    wedgeprops={'width': 0.4},\n",
    "    pctdistance=.4\n",
    ")\n",
    "\n",
    "# ax.set_title(\n",
    "#     'Do you currently use a patient volume forecasting or \\n' \\\n",
    "#     'crowding early warning software to guide decision making',\n",
    "#     fontsize=10\n",
    "#     )\n",
    "\n",
    "plt.savefig(here() / 'output/plots/software_usage.png', \n",
    "            bbox_inches='tight', \n",
    "            dpi=300)"
   ]
  }
 ],
 "metadata": {
  "kernelspec": {
   "display_name": "python-data",
   "language": "python",
   "name": "python3"
  },
  "language_info": {
   "codemirror_mode": {
    "name": "ipython",
    "version": 3
   },
   "file_extension": ".py",
   "mimetype": "text/x-python",
   "name": "python",
   "nbconvert_exporter": "python",
   "pygments_lexer": "ipython3",
   "version": "3.13.2"
  }
 },
 "nbformat": 4,
 "nbformat_minor": 5
}
