{
 "cells": [
  {
   "cell_type": "code",
   "execution_count": null,
   "id": "134374c9",
   "metadata": {},
   "outputs": [],
   "source": [
    "import pandas as pd\n",
    "from pyprojroot import here\n",
    "import matplotlib.pyplot as plt\n",
    "import numpy as np"
   ]
  },
  {
   "cell_type": "code",
   "execution_count": null,
   "id": "f77afe52",
   "metadata": {},
   "outputs": [],
   "source": [
    "data = pd.read_csv(here() / 'data/base/data.csv')"
   ]
  },
  {
   "cell_type": "code",
   "execution_count": null,
   "id": "8eee048f",
   "metadata": {},
   "outputs": [],
   "source": [
    "input_data = data.iloc[:,30:43]\n",
    "throughput_data = data.iloc[:,44:53]\n",
    "output_data = data.iloc[:,54:59]"
   ]
  },
  {
   "cell_type": "code",
   "execution_count": null,
   "id": "3d20993a",
   "metadata": {},
   "outputs": [],
   "source": [
    "df = data.iloc[:,30:60]"
   ]
  },
  {
   "cell_type": "code",
   "execution_count": null,
   "id": "a4819ccf",
   "metadata": {},
   "outputs": [],
   "source": [
    "result = pd.DataFrame({\n",
    "    col: df[col].value_counts().reindex()\n",
    "    for col in df.columns\n",
    "})"
   ]
  },
  {
   "cell_type": "code",
   "execution_count": null,
   "id": "07c2e0d8",
   "metadata": {},
   "outputs": [],
   "source": [
    "result = result.T\n",
    "relative = result.div(result.sum(axis=1), axis=0) * 100\n",
    "relative = relative.round(0)"
   ]
  },
  {
   "cell_type": "code",
   "execution_count": null,
   "id": "b457d81a",
   "metadata": {},
   "outputs": [],
   "source": [
    "relative = relative[['Unimportant', 'Slightly important', 'Moderately important', 'Important', 'Very important']]"
   ]
  },
  {
   "cell_type": "code",
   "execution_count": null,
   "id": "7923f93f",
   "metadata": {},
   "outputs": [],
   "source": [
    "fig, ax = plt.subplots(figsize=(8,8))\n",
    "\n",
    "ax.imshow(relative, cmap='Greys', vmin=0, vmax=100)\n",
    "\n",
    "ax.set_yticks(np.arange(len(relative.index)))\n",
    "ax.set_yticklabels(relative.index)\n",
    "ax.set_xticklabels(relative.columns, rotation=90)\n",
    "ax.set_xticks(list(range(0,5)))\n",
    "\n",
    "arr = relative.values \n",
    "\n",
    "# Annotate each cell with percentage\n",
    "for i in range(arr.shape[0]):\n",
    "    for j in range(arr.shape[1]):\n",
    "        ax.text(j, i, f\"{arr[i, j]:.0f}\", ha=\"center\", va=\"center\", color=\"black\")\n",
    "\n",
    "plt.savefig(here() / 'output/plots/causes.png', dpi=300, bbox_inches='tight')"
   ]
  },
  {
   "cell_type": "code",
   "execution_count": null,
   "id": "5e4f32c6",
   "metadata": {},
   "outputs": [],
   "source": [
    "fig, axs = plt.subplots(\n",
    "    nrows=3,\n",
    "    figsize=(2,10),\n",
    "    gridspec_kw={\n",
    "        'height_ratios':[14, 10, 6]\n",
    "    },\n",
    "    sharex=True\n",
    ")\n",
    "\n",
    "inputs = relative[:14]\n",
    "throughputs = relative[14:24]\n",
    "outputs = relative[24:]\n",
    "\n",
    "axs[0].imshow(inputs, aspect='auto', cmap='Greys', vmin=0, vmax=100)\n",
    "axs[0].set_yticks(np.arange(len(inputs.index)))\n",
    "axs[0].set_yticklabels(inputs.index)\n",
    "axs[0].set_title('Input')\n",
    "\n",
    "axs[1].imshow(throughputs, aspect='auto', cmap='Greys', vmin=0, vmax=100)\n",
    "axs[1].set_yticks(np.arange(len(throughputs.index)))\n",
    "axs[1].set_yticklabels(throughputs.index)\n",
    "axs[1].set_title('Throughput')\n",
    "\n",
    "axs[2].imshow(outputs, aspect='auto', cmap='Greys', vmin=0, vmax=100)\n",
    "axs[2].set_yticks(np.arange(len(outputs.index)))\n",
    "axs[2].set_yticklabels(outputs.index);\n",
    "axs[2].set_title('Output')\n",
    "\n",
    "\n",
    "# Annotate each cell with percentage\n",
    "arr = inputs.values \n",
    "for i in range(arr.shape[0]):\n",
    "    for j in range(arr.shape[1]):\n",
    "        axs[0].text(j, i, f\"{arr[i, j]:.0f}\", ha=\"center\", va=\"center\", color=\"black\")\n",
    "\n",
    "# Annotate each cell with percentage\n",
    "arr = throughputs.values \n",
    "for i in range(arr.shape[0]):\n",
    "    for j in range(arr.shape[1]):\n",
    "        axs[1].text(j, i, f\"{arr[i, j]:.0f}\", ha=\"center\", va=\"center\", color=\"black\")\n",
    "\n",
    "# Annotate each cell with percentage\n",
    "arr = outputs.values \n",
    "for i in range(arr.shape[0]):\n",
    "    for j in range(arr.shape[1]):\n",
    "        axs[2].text(j, i, f\"{arr[i, j]:.0f}\", ha=\"center\", va=\"center\", color=\"black\")\n",
    "\n",
    "for ax in axs:\n",
    "    ax.set_xticklabels(relative.columns, rotation=90)\n",
    "    ax.set_xticks(list(range(0,5)))\n",
    "\n",
    "plt.savefig(here() / 'output/plots/causes.png', dpi=300, bbox_inches='tight')"
   ]
  }
 ],
 "metadata": {
  "kernelspec": {
   "display_name": "python-data",
   "language": "python",
   "name": "python3"
  },
  "language_info": {
   "codemirror_mode": {
    "name": "ipython",
    "version": 3
   },
   "file_extension": ".py",
   "mimetype": "text/x-python",
   "name": "python",
   "nbconvert_exporter": "python",
   "pygments_lexer": "ipython3",
   "version": "3.13.2"
  }
 },
 "nbformat": 4,
 "nbformat_minor": 5
}
