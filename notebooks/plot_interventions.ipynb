{
 "cells": [
  {
   "cell_type": "code",
   "execution_count": null,
   "id": "c2669040",
   "metadata": {},
   "outputs": [],
   "source": [
    "import pandas as pd\n",
    "from pyprojroot import here\n",
    "\n",
    "import matplotlib.pyplot as plt"
   ]
  },
  {
   "cell_type": "code",
   "execution_count": null,
   "id": "1f14290a",
   "metadata": {},
   "outputs": [],
   "source": [
    "data = pd.read_csv(here() / 'data/base/data.csv')"
   ]
  },
  {
   "cell_type": "code",
   "execution_count": null,
   "id": "7aa8ddd5",
   "metadata": {},
   "outputs": [],
   "source": [
    "a = data.intervention_binary.value_counts()"
   ]
  },
  {
   "cell_type": "code",
   "execution_count": null,
   "id": "2b4b2c68",
   "metadata": {},
   "outputs": [],
   "source": [
    "series = {\n",
    "    'Calling in \\n additional staff' : data.intervention_categorical___0.sum(),\n",
    "     'Open additional \\n inpatient beds' : data.intervention_categorical___1.sum(),\n",
    "     'Adjust decision \\n making in triage' : data.intervention_categorical___2.sum(),\n",
    "    'Communicate \\n catchment area to \\n limit input' : data.intervention_categorical___3.sum(),\n",
    "    'Other' : data.intervention_categorical___4.sum()\n",
    "    }\n",
    "\n",
    "series = pd.Series(series)\n",
    "series = ((series / data.shape[0]) * 100).round(0)"
   ]
  },
  {
   "cell_type": "code",
   "execution_count": null,
   "id": "b404327b",
   "metadata": {},
   "outputs": [],
   "source": [
    "fig, ax = plt.subplots(figsize=(6,4))\n",
    "\n",
    "series.plot.barh(\n",
    "    ax=ax, \n",
    "    color='lightgrey',\n",
    "    width=.6)\n",
    "\n",
    "ax.set_xlim([0,100])\n",
    "\n",
    "ax.spines['right'].set_visible(False)\n",
    "ax.spines['top'].set_visible(False)\n",
    "\n",
    "plt.savefig(here() / 'output/plots/interventions.png', dpi=300, bbox_inches='tight')"
   ]
  }
 ],
 "metadata": {
  "kernelspec": {
   "display_name": "python-data",
   "language": "python",
   "name": "python3"
  },
  "language_info": {
   "codemirror_mode": {
    "name": "ipython",
    "version": 3
   },
   "file_extension": ".py",
   "mimetype": "text/x-python",
   "name": "python",
   "nbconvert_exporter": "python",
   "pygments_lexer": "ipython3",
   "version": "3.13.2"
  }
 },
 "nbformat": 4,
 "nbformat_minor": 5
}
