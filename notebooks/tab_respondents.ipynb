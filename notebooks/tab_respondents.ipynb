{
 "cells": [
  {
   "cell_type": "code",
   "execution_count": null,
   "id": "5843a1d7",
   "metadata": {},
   "outputs": [],
   "source": [
    "import pandas as pd\n",
    "from pyprojroot import here"
   ]
  },
  {
   "cell_type": "code",
   "execution_count": null,
   "id": "3736437a",
   "metadata": {},
   "outputs": [],
   "source": [
    "data = pd.read_csv(here() / 'data/base/data.csv')"
   ]
  },
  {
   "cell_type": "code",
   "execution_count": null,
   "id": "cd2bb367",
   "metadata": {},
   "outputs": [],
   "source": [
    "table = data.groupby('country')['position_categorical'].value_counts().unstack().fillna(0)"
   ]
  },
  {
   "cell_type": "code",
   "execution_count": null,
   "id": "9fa1b669",
   "metadata": {},
   "outputs": [],
   "source": [
    "table.columns.name=''"
   ]
  },
  {
   "cell_type": "code",
   "execution_count": null,
   "id": "cdb5d27c",
   "metadata": {},
   "outputs": [],
   "source": [
    "table.to_latex(\n",
    "    buf=here() / 'output/tables/respondents.tex',\n",
    "    float_format='%.0f',\n",
    "    #column_format='rccccc',\n",
    "    label='tab:respondents',\n",
    "    caption='Repondent positions',\n",
    "    position='h'\n",
    ")"
   ]
  }
 ],
 "metadata": {
  "kernelspec": {
   "display_name": "python-data",
   "language": "python",
   "name": "python3"
  },
  "language_info": {
   "codemirror_mode": {
    "name": "ipython",
    "version": 3
   },
   "file_extension": ".py",
   "mimetype": "text/x-python",
   "name": "python",
   "nbconvert_exporter": "python",
   "pygments_lexer": "ipython3",
   "version": "3.13.2"
  }
 },
 "nbformat": 4,
 "nbformat_minor": 5
}
