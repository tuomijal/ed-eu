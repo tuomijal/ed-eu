{
 "cells": [
  {
   "cell_type": "code",
   "execution_count": null,
   "id": "486b30c8",
   "metadata": {},
   "outputs": [],
   "source": [
    "import pandas as pd\n",
    "from pyprojroot import here\n",
    "import matplotlib.pyplot as plt"
   ]
  },
  {
   "cell_type": "code",
   "execution_count": null,
   "id": "8cf76281",
   "metadata": {},
   "outputs": [],
   "source": [
    "data = pd.read_csv(here() / 'data/base/data.csv')"
   ]
  },
  {
   "cell_type": "code",
   "execution_count": null,
   "id": "bb707f74",
   "metadata": {},
   "outputs": [],
   "source": [
    "# Group and sort by median\n",
    "grouped = data.groupby('country')['frequency']\n",
    "sorted_medians = grouped.median().sort_values()\n",
    "sorted_categories = sorted_medians.index\n",
    "\n",
    "# Create horizontal boxplot manually\n",
    "df = [data[data['country'] == cat]['frequency'] for cat in sorted_categories]\n",
    "\n",
    "fig, ax = plt.subplots(figsize=(6,12))\n",
    "\n",
    "bp = ax.boxplot(df, \n",
    "                vert=False, \n",
    "                labels=sorted_categories, \n",
    "                patch_artist=True)\n",
    "\n",
    "# Access all boxes and set facecolors\n",
    "for patch in bp['boxes']:\n",
    "    patch.set_facecolor('lightgrey')  # or any color name or hex code\n",
    "\n",
    "# Set median line color\n",
    "for median in bp['medians']:\n",
    "    median.set_color('black')         # Line color\n",
    "\n",
    "ax.set_xlabel('Proportion of crowded days in a typical month')\n",
    "ax.set_ylabel('Country')\n",
    "ax.spines['right'].set_visible(False)\n",
    "ax.spines['top'].set_visible(False)\n",
    "\n",
    "plt.savefig(here() / 'output/plots/country_crowding.png', dpi=300, bbox_inches='tight')"
   ]
  }
 ],
 "metadata": {
  "kernelspec": {
   "display_name": "python-data",
   "language": "python",
   "name": "python3"
  },
  "language_info": {
   "codemirror_mode": {
    "name": "ipython",
    "version": 3
   },
   "file_extension": ".py",
   "mimetype": "text/x-python",
   "name": "python",
   "nbconvert_exporter": "python",
   "pygments_lexer": "ipython3",
   "version": "3.13.2"
  }
 },
 "nbformat": 4,
 "nbformat_minor": 5
}
