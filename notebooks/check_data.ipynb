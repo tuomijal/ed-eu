{
 "cells": [
  {
   "cell_type": "code",
   "execution_count": null,
   "id": "f527df9c",
   "metadata": {},
   "outputs": [],
   "source": [
    "import pandas as pd\n",
    "from pyprojroot import here"
   ]
  },
  {
   "cell_type": "code",
   "execution_count": null,
   "id": "f7417e54",
   "metadata": {},
   "outputs": [],
   "source": [
    "data = pd.read_csv(here() / 'data/base/data.csv')\n",
    "\n",
    "counts = data.country.value_counts(dropna=False)"
   ]
  },
  {
   "cell_type": "code",
   "execution_count": null,
   "id": "8c3d621a",
   "metadata": {},
   "outputs": [],
   "source": [
    "mask = data.country=='Finland'\n",
    "data[mask].last_name"
   ]
  }
 ],
 "metadata": {
  "kernelspec": {
   "display_name": "python-data",
   "language": "python",
   "name": "python3"
  },
  "language_info": {
   "codemirror_mode": {
    "name": "ipython",
    "version": 3
   },
   "file_extension": ".py",
   "mimetype": "text/x-python",
   "name": "python",
   "nbconvert_exporter": "python",
   "pygments_lexer": "ipython3",
   "version": "3.13.2"
  }
 },
 "nbformat": 4,
 "nbformat_minor": 5
}
