{
 "cells": [
  {
   "cell_type": "code",
   "execution_count": null,
   "id": "a191230e",
   "metadata": {},
   "outputs": [],
   "source": [
    "import pandas as pd\n",
    "from pyprojroot import here\n",
    "import matplotlib.pyplot as plt\n",
    "import numpy as np\n"
   ]
  },
  {
   "cell_type": "code",
   "execution_count": null,
   "id": "5b2c7873",
   "metadata": {},
   "outputs": [],
   "source": [
    "data = pd.read_csv(here() / 'data/base/data.csv')"
   ]
  },
  {
   "cell_type": "code",
   "execution_count": null,
   "id": "0eb2bc2c",
   "metadata": {},
   "outputs": [],
   "source": [
    "matrix = data.groupby(data.country).crowding_severity.value_counts().unstack().fillna(0)"
   ]
  },
  {
   "cell_type": "code",
   "execution_count": null,
   "id": "e40cc113",
   "metadata": {},
   "outputs": [],
   "source": [
    "relative = matrix.div(matrix.sum(axis=1), axis=0)"
   ]
  },
  {
   "cell_type": "code",
   "execution_count": null,
   "id": "3790c2de",
   "metadata": {},
   "outputs": [],
   "source": [
    "relative = (relative*100).round(0)"
   ]
  },
  {
   "cell_type": "code",
   "execution_count": null,
   "id": "291d8172",
   "metadata": {},
   "outputs": [],
   "source": [
    "fig, ax = plt.subplots(figsize=(10,10))\n",
    "\n",
    "ax.imshow(relative, cmap='Greys', vmin=0, vmax=100)\n",
    "\n",
    "ax.set_yticks(np.arange(len(relative.index)))\n",
    "ax.set_yticklabels(relative.index)\n",
    "\n",
    "arr = relative.values \n",
    "\n",
    "# Annotate each cell with percentage\n",
    "for i in range(arr.shape[0]):\n",
    "    for j in range(arr.shape[1]):\n",
    "        ax.text(j, i, f\"{arr[i, j]:.0f}\", ha=\"center\", va=\"center\", color=\"black\")\n",
    "\n",
    "plt.savefig(here() / 'output/plots/severity.png', dpi=300, bbox_inches='tight')"
   ]
  }
 ],
 "metadata": {
  "kernelspec": {
   "display_name": "python-data",
   "language": "python",
   "name": "python3"
  },
  "language_info": {
   "codemirror_mode": {
    "name": "ipython",
    "version": 3
   },
   "file_extension": ".py",
   "mimetype": "text/x-python",
   "name": "python",
   "nbconvert_exporter": "python",
   "pygments_lexer": "ipython3",
   "version": "3.13.2"
  }
 },
 "nbformat": 4,
 "nbformat_minor": 5
}
