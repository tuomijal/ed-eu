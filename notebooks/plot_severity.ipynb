{
 "cells": [
  {
   "cell_type": "code",
   "execution_count": null,
   "id": "a191230e",
   "metadata": {},
   "outputs": [],
   "source": [
    "import pandas as pd\n",
    "from pyprojroot import here\n",
    "import matplotlib.pyplot as plt\n",
    "import numpy as np\n"
   ]
  },
  {
   "cell_type": "code",
   "execution_count": null,
   "id": "5b2c7873",
   "metadata": {},
   "outputs": [],
   "source": [
    "data = pd.read_csv(here() / 'data/base/data.csv')"
   ]
  },
  {
   "cell_type": "code",
   "execution_count": null,
   "id": "1c515fe0",
   "metadata": {},
   "outputs": [],
   "source": [
    "data = data.iloc[:,[-2, 63]]"
   ]
  },
  {
   "cell_type": "code",
   "execution_count": null,
   "id": "7f160b68",
   "metadata": {},
   "outputs": [],
   "source": [
    "data.columns = ['country', 'severity']"
   ]
  },
  {
   "cell_type": "code",
   "execution_count": null,
   "id": "0eb2bc2c",
   "metadata": {},
   "outputs": [],
   "source": [
    "matrix = data.groupby(data.country)['severity'].value_counts().unstack().fillna(0)"
   ]
  },
  {
   "cell_type": "code",
   "execution_count": null,
   "id": "b69533e3",
   "metadata": {},
   "outputs": [],
   "source": [
    "all_responses = ((matrix.sum() / matrix.sum().sum()) * 100)"
   ]
  },
  {
   "cell_type": "code",
   "execution_count": null,
   "id": "e40cc113",
   "metadata": {},
   "outputs": [],
   "source": [
    "relative = matrix.div(matrix.sum(axis=1), axis=0)"
   ]
  },
  {
   "cell_type": "code",
   "execution_count": null,
   "id": "3790c2de",
   "metadata": {},
   "outputs": [],
   "source": [
    "relative = (relative*100).round(0)"
   ]
  },
  {
   "cell_type": "code",
   "execution_count": null,
   "id": "0581ce22",
   "metadata": {},
   "outputs": [],
   "source": [
    "relative = relative[['Not at all', 'Slight', 'Moderate', 'Severe', 'Very severe']]"
   ]
  },
  {
   "cell_type": "code",
   "execution_count": null,
   "id": "bb56ce7d",
   "metadata": {},
   "outputs": [],
   "source": [
    "all_responses = all_responses[['Not at all', 'Slight', 'Moderate', 'Severe', 'Very severe']]"
   ]
  },
  {
   "cell_type": "code",
   "execution_count": null,
   "id": "b8bb6e34",
   "metadata": {},
   "outputs": [],
   "source": [
    "relative = relative.T"
   ]
  },
  {
   "cell_type": "code",
   "execution_count": null,
   "id": "291d8172",
   "metadata": {},
   "outputs": [],
   "source": [
    "fig, ax = plt.subplots(figsize=(10,10))\n",
    "\n",
    "ax.imshow(relative, cmap='Greys', vmin=0, vmax=100)\n",
    "\n",
    "ax.set_yticks(np.arange(len(relative.index)))\n",
    "ax.set_yticklabels(relative.index)\n",
    "\n",
    "ax.set_xticks(np.arange(len(relative.columns)))\n",
    "ax.set_xticklabels(relative.columns)\n",
    "\n",
    "arr = relative.values \n",
    "\n",
    "# Annotate each cell with percentage\n",
    "for i in range(arr.shape[0]):\n",
    "    for j in range(arr.shape[1]):\n",
    "        if arr[i,j]<80:\n",
    "            color = 'black'\n",
    "        else:\n",
    "            color='white'\n",
    "        ax.text(j, i, f\"{arr[i, j]:.0f}\", ha=\"center\", va=\"center\", color=color)\n",
    "\n",
    "plt.savefig(here() / 'output/plots/severity.png', dpi=300, bbox_inches='tight')"
   ]
  },
  {
   "cell_type": "code",
   "execution_count": null,
   "id": "26265b6e",
   "metadata": {},
   "outputs": [],
   "source": [
    "all_responses"
   ]
  },
  {
   "cell_type": "code",
   "execution_count": null,
   "id": "123c2607",
   "metadata": {},
   "outputs": [],
   "source": [
    "fig, axs = plt.subplots(\n",
    "    ncols=2, \n",
    "    figsize=(10,2), \n",
    "    gridspec_kw={\n",
    "        'width_ratios':[10,1]\n",
    "        },\n",
    "    sharey=True\n",
    "    )\n",
    "\n",
    "axs[0].imshow(relative, cmap='Greys', vmin=0, vmax=100, aspect='auto')\n",
    "\n",
    "axs[0].set_yticks(np.arange(len(relative.index)))\n",
    "axs[0].set_yticklabels(relative.index)\n",
    "\n",
    "axs[0].set_xticks(np.arange(len(relative.columns)))\n",
    "axs[0].set_xticklabels(relative.columns)\n",
    "\n",
    "all_responses.plot.barh(ax=axs[1], color='lightgrey', width=.8)\n",
    "axs[1].set_xlim([0,100])\n",
    "\n",
    "# Annotate each cell with percentage\n",
    "arr = relative.values \n",
    "for i in range(arr.shape[0]):\n",
    "    for j in range(arr.shape[1]):\n",
    "        if arr[i,j]<80:\n",
    "            color = 'black'\n",
    "        else:\n",
    "            color='white'\n",
    "        axs[0].text(j, i, f\"{arr[i, j]:.0f}\", ha=\"center\", va=\"center\", color=color)\n",
    "\n",
    "plt.tight_layout()\n",
    "\n",
    "plt.savefig(here() / 'output/plots/severity.png', dpi=300, bbox_inches='tight')"
   ]
  }
 ],
 "metadata": {
  "kernelspec": {
   "display_name": "python-data",
   "language": "python",
   "name": "python3"
  },
  "language_info": {
   "codemirror_mode": {
    "name": "ipython",
    "version": 3
   },
   "file_extension": ".py",
   "mimetype": "text/x-python",
   "name": "python",
   "nbconvert_exporter": "python",
   "pygments_lexer": "ipython3",
   "version": "3.13.2"
  }
 },
 "nbformat": 4,
 "nbformat_minor": 5
}
