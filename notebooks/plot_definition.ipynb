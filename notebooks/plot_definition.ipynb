{
 "cells": [
  {
   "cell_type": "code",
   "execution_count": null,
   "id": "9d92f093",
   "metadata": {},
   "outputs": [],
   "source": [
    "import pandas as pd\n",
    "from pyprojroot import here\n",
    "import matplotlib.pyplot as plt"
   ]
  },
  {
   "cell_type": "code",
   "execution_count": null,
   "id": "5bb75217",
   "metadata": {},
   "outputs": [],
   "source": [
    "data = pd.read_csv(here() / 'data/base/data.csv')"
   ]
  },
  {
   "cell_type": "code",
   "execution_count": null,
   "id": "bb9112f7",
   "metadata": {},
   "outputs": [],
   "source": [
    "data.definition_binary.sum()"
   ]
  },
  {
   "cell_type": "code",
   "execution_count": null,
   "id": "6e6bdb64",
   "metadata": {},
   "outputs": [],
   "source": [
    "values = data.definition_categorical.value_counts()\n"
   ]
  },
  {
   "cell_type": "code",
   "execution_count": null,
   "id": "da396da1",
   "metadata": {},
   "outputs": [],
   "source": [
    "values = (values / values.sum()) * 100\n",
    "values = values.round(0)"
   ]
  },
  {
   "cell_type": "code",
   "execution_count": null,
   "id": "23b80f20",
   "metadata": {},
   "outputs": [],
   "source": [
    "fig, ax = plt.subplots(figsize=(6,3))\n",
    "\n",
    "values.plot.barh(\n",
    "    ax=ax,\n",
    "    color='lightgrey',\n",
    "    width=.8\n",
    "    )\n",
    "\n",
    "ax.set_ylabel('')\n",
    "ax.set_xlabel('Proportion of responses')\n",
    "ax.set_xlim([0,100])\n",
    "\n",
    "ax.spines['right'].set_visible(False)\n",
    "ax.spines['top'].set_visible(False)\n",
    "\n",
    "plt.savefig(here() / 'output/plots/definition.png', dpi=300, bbox_inches='tight')"
   ]
  }
 ],
 "metadata": {
  "kernelspec": {
   "display_name": "python-data",
   "language": "python",
   "name": "python3"
  },
  "language_info": {
   "codemirror_mode": {
    "name": "ipython",
    "version": 3
   },
   "file_extension": ".py",
   "mimetype": "text/x-python",
   "name": "python",
   "nbconvert_exporter": "python",
   "pygments_lexer": "ipython3",
   "version": "3.13.2"
  }
 },
 "nbformat": 4,
 "nbformat_minor": 5
}
