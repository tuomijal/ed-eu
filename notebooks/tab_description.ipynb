{
 "cells": [
  {
   "cell_type": "code",
   "execution_count": null,
   "id": "cde3f364",
   "metadata": {},
   "outputs": [],
   "source": [
    "import pandas as pd\n",
    "from pyprojroot import here"
   ]
  },
  {
   "cell_type": "code",
   "execution_count": null,
   "id": "11cbe07e",
   "metadata": {},
   "outputs": [],
   "source": [
    "data = pd.read_csv(here() / 'data/base/data.csv')"
   ]
  },
  {
   "cell_type": "code",
   "execution_count": null,
   "id": "007b609a",
   "metadata": {},
   "outputs": [],
   "source": [
    "data = data.iloc[:,[-2, 12, 20]]"
   ]
  },
  {
   "cell_type": "code",
   "execution_count": null,
   "id": "dced8695",
   "metadata": {},
   "outputs": [],
   "source": [
    "data.columns = ['country', 'position', 'hospital_type']"
   ]
  },
  {
   "cell_type": "code",
   "execution_count": null,
   "id": "154796c4",
   "metadata": {},
   "outputs": [],
   "source": [
    "conversion = {\n",
    "    'Central or Regional Hospital (Secondary Care)' : 'Secondary care',\n",
    "    'Local or Community Hospital (Primary to Secondary Care)' : 'Primary care',\n",
    "    'Specialized hospital (e.g. cardiology, orthopedics or psychiatry)': 'Specialized',\n",
    "    'University hospital (Tertiary Care)' : 'Tertiary'}"
   ]
  },
  {
   "cell_type": "code",
   "execution_count": null,
   "id": "c32206bb",
   "metadata": {},
   "outputs": [],
   "source": [
    "data.hospital_type = data.hospital_type.replace(conversion)"
   ]
  },
  {
   "cell_type": "code",
   "execution_count": null,
   "id": "173fbb46",
   "metadata": {},
   "outputs": [],
   "source": [
    "country = data.groupby('country').position.value_counts().unstack().fillna(0).T"
   ]
  },
  {
   "cell_type": "code",
   "execution_count": null,
   "id": "1b05803c",
   "metadata": {},
   "outputs": [],
   "source": [
    "hospital_type = data.groupby('country').hospital_type.value_counts().unstack().fillna(0).T"
   ]
  },
  {
   "cell_type": "code",
   "execution_count": null,
   "id": "7a2a2551",
   "metadata": {},
   "outputs": [],
   "source": [
    "table = pd.concat([country, hospital_type], keys=['Position', 'Hospital'])"
   ]
  },
  {
   "cell_type": "code",
   "execution_count": null,
   "id": "94894da6",
   "metadata": {},
   "outputs": [],
   "source": [
    "column_format = 'p{1.0cm}' + 'p{2.5cm}' + 'p{0.15cm}'*25"
   ]
  },
  {
   "cell_type": "code",
   "execution_count": null,
   "id": "4233d83c",
   "metadata": {},
   "outputs": [],
   "source": [
    "filepath = here() / 'output/tables/description.tex'\n",
    "\n",
    "table.to_latex(\n",
    "    buf=filepath,\n",
    "    float_format='%.0f',\n",
    "    column_format=column_format,\n",
    "    label='tab:description',\n",
    "    caption='Description',\n",
    "    position='h'\n",
    ")"
   ]
  },
  {
   "cell_type": "code",
   "execution_count": null,
   "id": "c08bebea",
   "metadata": {},
   "outputs": [],
   "source": [
    "# Replace 'your_file.tex' with your actual filename\n",
    "filename = filepath\n",
    "\n",
    "# Read all lines\n",
    "with open(filename, \"r\", encoding=\"utf-8\") as f:\n",
    "    lines = f.readlines()\n",
    "\n",
    "# Modify line 1 and line 22 (remember Python is 0-indexed)\n",
    "if len(lines) >= 1:\n",
    "    lines[0] = \"\\\\begin{sidewaystable}[p]\\n\"\n",
    "\n",
    "# 2. Insert \\footnotesize between line 3 and 4 (index 3 since Python is 0-based)\n",
    "if len(lines) >= 3:\n",
    "    lines.insert(3, \"\\\\footnotesize\\n\")\n",
    "\n",
    "if len(lines) >= 22:\n",
    "    lines[22] = \"\\\\end{sidewaystable}\\n\"\n",
    "\n",
    "# Write the modified lines back to the file\n",
    "with open(filename, \"w\", encoding=\"utf-8\") as f:\n",
    "    f.writelines(lines)\n",
    "\n",
    "print(\"Lines 1 and 22 updated successfully!\")"
   ]
  }
 ],
 "metadata": {
  "kernelspec": {
   "display_name": "python-data",
   "language": "python",
   "name": "python3"
  },
  "language_info": {
   "codemirror_mode": {
    "name": "ipython",
    "version": 3
   },
   "file_extension": ".py",
   "mimetype": "text/x-python",
   "name": "python",
   "nbconvert_exporter": "python",
   "pygments_lexer": "ipython3",
   "version": "3.13.2"
  }
 },
 "nbformat": 4,
 "nbformat_minor": 5
}
