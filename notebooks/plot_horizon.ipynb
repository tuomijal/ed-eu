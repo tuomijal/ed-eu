{
 "cells": [
  {
   "cell_type": "code",
   "execution_count": null,
   "id": "2e9d21df",
   "metadata": {},
   "outputs": [],
   "source": [
    "import pandas as pd\n",
    "from pyprojroot import here"
   ]
  },
  {
   "cell_type": "code",
   "execution_count": null,
   "id": "8e247579",
   "metadata": {},
   "outputs": [],
   "source": [
    "data = pd.read_csv(here() / 'data/base/data.csv')"
   ]
  },
  {
   "cell_type": "code",
   "execution_count": null,
   "id": "8fbf9d0b",
   "metadata": {},
   "outputs": [],
   "source": [
    "data.horizon.unique()"
   ]
  },
  {
   "cell_type": "code",
   "execution_count": null,
   "id": "ac8e7096",
   "metadata": {},
   "outputs": [],
   "source": [
    "conversion = {\n",
    "    0 : '1-8 hours',\n",
    "    1 : '8-24 hours',\n",
    "    2 : '2-7 days',\n",
    "    3 : '1-2 weeks',\n",
    "    4 : '3-4 weeks',\n",
    "    5 : '1-3 months',\n",
    "    6 : '4-12 months'\n",
    "}"
   ]
  },
  {
   "cell_type": "code",
   "execution_count": null,
   "id": "331f29d8",
   "metadata": {},
   "outputs": [],
   "source": [
    "data.horizon = data.horizon.replace(conversion)"
   ]
  },
  {
   "cell_type": "code",
   "execution_count": null,
   "id": "366b7e3d",
   "metadata": {},
   "outputs": [],
   "source": [
    "data.horizon"
   ]
  },
  {
   "cell_type": "code",
   "execution_count": null,
   "id": "94d69017",
   "metadata": {},
   "outputs": [],
   "source": [
    "data.horizon.value_counts()"
   ]
  }
 ],
 "metadata": {
  "kernelspec": {
   "display_name": "python-data",
   "language": "python",
   "name": "python3"
  },
  "language_info": {
   "codemirror_mode": {
    "name": "ipython",
    "version": 3
   },
   "file_extension": ".py",
   "mimetype": "text/x-python",
   "name": "python",
   "nbconvert_exporter": "python",
   "pygments_lexer": "ipython3",
   "version": "3.13.2"
  }
 },
 "nbformat": 4,
 "nbformat_minor": 5
}
