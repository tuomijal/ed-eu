{
 "cells": [
  {
   "cell_type": "code",
   "execution_count": null,
   "id": "2e9d21df",
   "metadata": {},
   "outputs": [],
   "source": [
    "import pandas as pd\n",
    "from pyprojroot import here\n",
    "import matplotlib.pyplot as plt"
   ]
  },
  {
   "cell_type": "code",
   "execution_count": null,
   "id": "8e247579",
   "metadata": {},
   "outputs": [],
   "source": [
    "data = pd.read_csv(here() / 'data/base/data.csv')"
   ]
  },
  {
   "cell_type": "code",
   "execution_count": null,
   "id": "adb2187b",
   "metadata": {},
   "outputs": [],
   "source": [
    "a = data.iloc[:,80]"
   ]
  },
  {
   "cell_type": "code",
   "execution_count": null,
   "id": "3da4de12",
   "metadata": {},
   "outputs": [],
   "source": [
    "series = a.value_counts()"
   ]
  },
  {
   "cell_type": "code",
   "execution_count": null,
   "id": "eb2399a2",
   "metadata": {},
   "outputs": [],
   "source": [
    "series = series[['1-8 hours', '8-24 hours', '2-7 days', '1-2 weeks', '3-4 weeks', '1-3 months', '4-12 months']]"
   ]
  },
  {
   "cell_type": "code",
   "execution_count": null,
   "id": "459ed204",
   "metadata": {},
   "outputs": [],
   "source": [
    "series = ((series / series.sum()) * 100)"
   ]
  },
  {
   "cell_type": "code",
   "execution_count": null,
   "id": "6e576571",
   "metadata": {},
   "outputs": [],
   "source": [
    "fig, ax = plt.subplots(figsize=(4,4))\n",
    "\n",
    "series.plot.bar(ax=ax, color='.7', width=.5, label='Proportion of responses', zorder=2)\n",
    "series.cumsum().plot.bar(ax=ax, color='.9', zorder=1, label='Cumulative sum', width=.9)\n",
    "\n",
    "ax.spines['right'].set_visible(False)\n",
    "ax.spines['top'].set_visible(False)\n",
    "\n",
    "ax.set_xlabel('')\n",
    "ax.set_ylim([0,100])\n",
    "ax.grid(axis='y', lw=.5, ls='--')\n",
    "ax.set_axisbelow(True)\n",
    "\n",
    "ax.legend(loc='center left', bbox_to_anchor=(1, 0.5), frameon=False)\n",
    "#ax.set_xticklabels(ax.get_xticklabels(), rotation=45)\n",
    "\n",
    "plt.savefig(here() / 'output/plots/horizon.png', dpi=300, bbox_inches='tight')"
   ]
  }
 ],
 "metadata": {
  "kernelspec": {
   "display_name": "python-data",
   "language": "python",
   "name": "python3"
  },
  "language_info": {
   "codemirror_mode": {
    "name": "ipython",
    "version": 3
   },
   "file_extension": ".py",
   "mimetype": "text/x-python",
   "name": "python",
   "nbconvert_exporter": "python",
   "pygments_lexer": "ipython3",
   "version": "3.13.2"
  }
 },
 "nbformat": 4,
 "nbformat_minor": 5
}
