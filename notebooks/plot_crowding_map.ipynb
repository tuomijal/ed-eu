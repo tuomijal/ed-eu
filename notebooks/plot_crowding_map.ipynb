{
 "cells": [
  {
   "cell_type": "code",
   "execution_count": null,
   "id": "98bd67f1",
   "metadata": {},
   "outputs": [],
   "source": [
    "import pandas as pd\n",
    "import geopandas as gpd\n",
    "from pyprojroot import here\n",
    "import matplotlib.pyplot as plt"
   ]
  },
  {
   "cell_type": "code",
   "execution_count": null,
   "id": "1f9d1f72",
   "metadata": {},
   "outputs": [],
   "source": [
    "data = pd.read_csv(here() / 'data/base/data.csv')"
   ]
  },
  {
   "cell_type": "code",
   "execution_count": null,
   "id": "bcecad32",
   "metadata": {},
   "outputs": [],
   "source": [
    "df = data[['country', 'frequency']]"
   ]
  },
  {
   "cell_type": "code",
   "execution_count": null,
   "id": "e7da5dda",
   "metadata": {},
   "outputs": [],
   "source": [
    "df = df.groupby('country').median()"
   ]
  },
  {
   "cell_type": "code",
   "execution_count": null,
   "id": "3a93fd1a",
   "metadata": {},
   "outputs": [],
   "source": [
    "# Load built-in world map from GeoPandas\n",
    "world = gpd.read_file(gpd.datasets.get_path('naturalearth_lowres'))\n",
    "\n",
    "# Merge your dataframe with the GeoDataFrame\n",
    "merged = world.merge(df, how='left', left_on='name', right_on='country')"
   ]
  },
  {
   "cell_type": "code",
   "execution_count": null,
   "id": "ef4a3170",
   "metadata": {},
   "outputs": [],
   "source": [
    "from shapely.geometry import box\n",
    "\n",
    "#europe = merged[merged['continent'] == 'Europe']\n",
    "\n",
    "# Define bounding box (lon_min, lat_min, lon_max, lat_max)\n",
    "europe_box = box(-26, 34, 50, 71)  # roughly continental Europe\n",
    "europe_mainland = merged.clip(europe_box)"
   ]
  },
  {
   "cell_type": "code",
   "execution_count": null,
   "id": "15e5bd94",
   "metadata": {},
   "outputs": [],
   "source": [
    "fig, ax = plt.subplots(1, 1, figsize=(10,5))\n",
    "\n",
    "europe_mainland.plot(column='frequency', \n",
    "            cmap='Reds', \n",
    "            legend=True, \n",
    "            ax=ax, \n",
    "            edgecolor='black',\n",
    "            lw=.2,\n",
    "            missing_kwds={\n",
    "            'color': '.95',\n",
    "            'edgecolor': 'black',\n",
    "            'label': 'No data'\n",
    "    })\n",
    "\n",
    "ax.axis('off')\n",
    "plt.tight_layout()\n",
    "\n",
    "plt.savefig(here() / 'output/plots/crowding_map.png', dpi=300, bbox_inches='tight')"
   ]
  }
 ],
 "metadata": {
  "kernelspec": {
   "display_name": "python-data",
   "language": "python",
   "name": "python3"
  },
  "language_info": {
   "codemirror_mode": {
    "name": "ipython",
    "version": 3
   },
   "file_extension": ".py",
   "mimetype": "text/x-python",
   "name": "python",
   "nbconvert_exporter": "python",
   "pygments_lexer": "ipython3",
   "version": "3.13.2"
  }
 },
 "nbformat": 4,
 "nbformat_minor": 5
}
