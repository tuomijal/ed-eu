{
 "cells": [
  {
   "cell_type": "code",
   "execution_count": null,
   "id": "98bd67f1",
   "metadata": {},
   "outputs": [],
   "source": [
    "import pandas as pd\n",
    "import geopandas as gpd\n",
    "from pyprojroot import here\n",
    "import matplotlib.pyplot as plt"
   ]
  },
  {
   "cell_type": "code",
   "execution_count": null,
   "id": "1f9d1f72",
   "metadata": {},
   "outputs": [],
   "source": [
    "data = pd.read_csv(here() / 'data/base/data.csv')"
   ]
  },
  {
   "cell_type": "code",
   "execution_count": null,
   "id": "4b2302e5",
   "metadata": {},
   "outputs": [],
   "source": [
    "df = data.iloc[:,[22,74]]"
   ]
  },
  {
   "cell_type": "code",
   "execution_count": null,
   "id": "54f0faf6",
   "metadata": {},
   "outputs": [],
   "source": [
    "df.columns = ['country', 'frequency']"
   ]
  },
  {
   "cell_type": "code",
   "execution_count": null,
   "id": "e7da5dda",
   "metadata": {},
   "outputs": [],
   "source": [
    "df = df.groupby('country').median()"
   ]
  },
  {
   "cell_type": "code",
   "execution_count": null,
   "id": "3a93fd1a",
   "metadata": {},
   "outputs": [],
   "source": [
    "# Load built-in world map from GeoPandas\n",
    "world = gpd.read_file(gpd.datasets.get_path('naturalearth_lowres'))\n",
    "\n",
    "# Download from Natural Earth (manual or via requests)\n",
    "url = \"https://naturalearth.s3.amazonaws.com/10m_cultural/ne_10m_admin_0_countries.zip\"\n",
    "world = gpd.read_file(url)\n",
    "world = world.rename(columns={'SOVEREIGNT':'name'})\n",
    "\n",
    "# Merge your dataframe with the GeoDataFrame\n",
    "merged = world.merge(df, how='left', left_on='name', right_on='country')"
   ]
  },
  {
   "cell_type": "code",
   "execution_count": null,
   "id": "ef4a3170",
   "metadata": {},
   "outputs": [],
   "source": [
    "from shapely.geometry import box\n",
    "\n",
    "#europe = merged[merged['continent'] == 'Europe']\n",
    "\n",
    "# Define bounding box (lon_min, lat_min, lon_max, lat_max)\n",
    "europe_box = box(-26, 34, 50, 71)  # roughly continental Europe\n",
    "europe_mainland = merged.clip(europe_box)"
   ]
  },
  {
   "cell_type": "code",
   "execution_count": null,
   "id": "15e5bd94",
   "metadata": {},
   "outputs": [],
   "source": [
    "fig, ax = plt.subplots(1, 1, figsize=(10,5))\n",
    "\n",
    "europe_mainland.plot(column='frequency', \n",
    "            cmap='Reds', \n",
    "            legend=False, \n",
    "            ax=ax, \n",
    "            edgecolor='black',\n",
    "            lw=.2,\n",
    "            vmin=0,\n",
    "            vmax=100,\n",
    "            missing_kwds={\n",
    "            'color': '.9',\n",
    "            'edgecolor': 'black',\n",
    "            'label': 'No data',\n",
    "    })\n",
    "\n",
    "ax.axis('off')\n",
    "plt.tight_layout()\n",
    "\n",
    "# Create the colorbar manually\n",
    "sm = plt.cm.ScalarMappable(cmap='Reds')\n",
    "\n",
    "# Add colorbar with adjustable height\n",
    "cbar = fig.colorbar(sm, ax=ax, shrink=0.9, pad=0.02)\n",
    "\n",
    "plt.savefig(here() / 'output/plots/crowding_map.png', dpi=300, bbox_inches='tight')"
   ]
  }
 ],
 "metadata": {
  "kernelspec": {
   "display_name": "python-data",
   "language": "python",
   "name": "python3"
  },
  "language_info": {
   "codemirror_mode": {
    "name": "ipython",
    "version": 3
   },
   "file_extension": ".py",
   "mimetype": "text/x-python",
   "name": "python",
   "nbconvert_exporter": "python",
   "pygments_lexer": "ipython3",
   "version": "3.13.2"
  }
 },
 "nbformat": 4,
 "nbformat_minor": 5
}
