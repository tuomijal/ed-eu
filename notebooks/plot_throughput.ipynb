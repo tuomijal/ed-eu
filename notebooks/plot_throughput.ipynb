{
 "cells": [
  {
   "cell_type": "code",
   "execution_count": null,
   "id": "5e3e0419",
   "metadata": {},
   "outputs": [],
   "source": [
    "import pandas as pd\n",
    "from pyprojroot import here\n",
    "import matplotlib.pyplot as plt\n",
    "import numpy as np"
   ]
  },
  {
   "cell_type": "code",
   "execution_count": null,
   "id": "9043669c",
   "metadata": {},
   "outputs": [],
   "source": [
    "data = pd.read_csv(here() / 'data/base/data.csv')"
   ]
  },
  {
   "cell_type": "code",
   "execution_count": null,
   "id": "e431fd3a",
   "metadata": {},
   "outputs": [],
   "source": [
    "input_data = data.loc[:,data.columns.str.startswith('thr_')]"
   ]
  },
  {
   "cell_type": "code",
   "execution_count": null,
   "id": "e4da89a0",
   "metadata": {},
   "outputs": [],
   "source": [
    "result = pd.DataFrame({\n",
    "    col: input_data[col].value_counts().reindex(range(5), fill_value=0)\n",
    "    for col in input_data.columns\n",
    "})"
   ]
  },
  {
   "cell_type": "code",
   "execution_count": null,
   "id": "94fa79b6",
   "metadata": {},
   "outputs": [],
   "source": [
    "result = result.T"
   ]
  },
  {
   "cell_type": "code",
   "execution_count": null,
   "id": "65e8b6be",
   "metadata": {},
   "outputs": [],
   "source": [
    "result.sum(axis=1)"
   ]
  },
  {
   "cell_type": "code",
   "execution_count": null,
   "id": "fb2e9036",
   "metadata": {},
   "outputs": [],
   "source": [
    "relative = result.div(result.sum(axis=1), axis=0) * 100"
   ]
  },
  {
   "cell_type": "code",
   "execution_count": null,
   "id": "800c1024",
   "metadata": {},
   "outputs": [],
   "source": [
    "relative = relative.round(0)"
   ]
  },
  {
   "cell_type": "code",
   "execution_count": null,
   "id": "d4f45b78",
   "metadata": {},
   "outputs": [],
   "source": [
    "fig, ax = plt.subplots(figsize=(6,6))\n",
    "\n",
    "ax.imshow(relative, cmap='Greys', vmin=0, vmax=100)\n",
    "\n",
    "ax.set_yticks(np.arange(len(relative.index)))\n",
    "ax.set_yticklabels(relative.index)\n",
    "\n",
    "arr = relative.values \n",
    "\n",
    "# Annotate each cell with percentage\n",
    "for i in range(arr.shape[0]):\n",
    "    for j in range(arr.shape[1]):\n",
    "        ax.text(j, i, f\"{arr[i, j]:.0f}\", ha=\"center\", va=\"center\", color=\"black\")\n",
    "\n",
    "plt.savefig(here() / 'output/plots/throughput.png', dpi=300, bbox_inches='tight')"
   ]
  }
 ],
 "metadata": {
  "kernelspec": {
   "display_name": "python-data",
   "language": "python",
   "name": "python3"
  },
  "language_info": {
   "codemirror_mode": {
    "name": "ipython",
    "version": 3
   },
   "file_extension": ".py",
   "mimetype": "text/x-python",
   "name": "python",
   "nbconvert_exporter": "python",
   "pygments_lexer": "ipython3",
   "version": "3.13.2"
  }
 },
 "nbformat": 4,
 "nbformat_minor": 5
}
